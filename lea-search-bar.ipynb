{
 "cells": [
  {
   "cell_type": "markdown",
   "id": "71e8ac1e-3a2f-481f-9a25-f5c9df27c0f2",
   "metadata": {},
   "source": [
    "# Search Bar To Search Information About California LEA's"
   ]
  },
  {
   "cell_type": "code",
   "execution_count": null,
   "id": "3af3790f-3b94-4fd6-967c-211a67c48bfd",
   "metadata": {},
   "outputs": [
    {
     "name": "stdin",
     "output_type": "stream",
     "text": [
      "Enter a zip code, city, or police department: 91706\n"
     ]
    },
    {
     "name": "stdout",
     "output_type": "stream",
     "text": [
      "enter\n",
      "Couldn't find any matches. Please double-check your spelling and capitalization\n"
     ]
    }
   ],
   "source": [
    "import pandas as pd\n",
    "df = pd.read_csv(\"LEA-20230424.csv\")\n",
    "\n",
    "# prompt user to enter a zip code, city, or police department name\n",
    "search_term = \"\"\n",
    "search_term = input(\"Enter a zip code, city, or police department:\")\n",
    "# print(df.loc[df['Zip_Code'] == 91706])\n",
    "while search_term != 'q': \n",
    "    # for zip code searches\n",
    "    if search_term.isdigit():\n",
    "        rows = df.loc[df['Zip_Code'] == int(search_term)]\n",
    "    # for exact LEA name searches\n",
    "    if ('Department' or 'Attorney' or 'Police' or 'Office' or 'Sheriff') in search_term:\n",
    "        rows = df.loc[df['LEA_Name'] == search_term]\n",
    "    # for city searches\n",
    "    else: \n",
    "        rows = df.loc[df['City'] == search_term]\n",
    "    if (len(rows) == 0):\n",
    "        print(\"Couldn't find any matches. Please double-check your spelling and capitalization\")\n",
    "    else: \n",
    "        display(rows)\n",
    "    search_term = input(\"Enter a zip code, city, or police department:\")\n",
    "  \n"
   ]
  },
  {
   "cell_type": "code",
   "execution_count": null,
   "id": "83fc9cbb-049e-4675-9dfd-5eb5fa323c8b",
   "metadata": {},
   "outputs": [],
   "source": []
  }
 ],
 "metadata": {
  "kernelspec": {
   "display_name": "Python 3 (ipykernel)",
   "language": "python",
   "name": "python3"
  },
  "language_info": {
   "codemirror_mode": {
    "name": "ipython",
    "version": 3
   },
   "file_extension": ".py",
   "mimetype": "text/x-python",
   "name": "python",
   "nbconvert_exporter": "python",
   "pygments_lexer": "ipython3",
   "version": "3.10.9"
  }
 },
 "nbformat": 4,
 "nbformat_minor": 5
}
