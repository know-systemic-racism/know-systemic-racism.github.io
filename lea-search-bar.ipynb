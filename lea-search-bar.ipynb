{
 "cells": [
  {
   "cell_type": "markdown",
   "id": "71e8ac1e-3a2f-481f-9a25-f5c9df27c0f2",
   "metadata": {},
   "source": [
    "# Search Bar To Search Information About California LEA's"
   ]
  },
  {
   "cell_type": "code",
   "execution_count": 4,
   "id": "3af3790f-3b94-4fd6-967c-211a67c48bfd",
   "metadata": {},
   "outputs": [
    {
     "name": "stdin",
     "output_type": "stream",
     "text": [
      "Enter a zip code, city, or police department: 91706\n"
     ]
    },
    {
     "data": {
      "text/html": [
       "<div>\n",
       "<style scoped>\n",
       "    .dataframe tbody tr th:only-of-type {\n",
       "        vertical-align: middle;\n",
       "    }\n",
       "\n",
       "    .dataframe tbody tr th {\n",
       "        vertical-align: top;\n",
       "    }\n",
       "\n",
       "    .dataframe thead th {\n",
       "        text-align: right;\n",
       "    }\n",
       "</style>\n",
       "<table border=\"1\" class=\"dataframe\">\n",
       "  <thead>\n",
       "    <tr style=\"text-align: right;\">\n",
       "      <th></th>\n",
       "      <th>Ref</th>\n",
       "      <th>LEA_Name</th>\n",
       "      <th>Reference</th>\n",
       "      <th>Contract</th>\n",
       "      <th>POST Participating</th>\n",
       "      <th>City</th>\n",
       "      <th>Latitude</th>\n",
       "      <th>Longitude</th>\n",
       "      <th>County</th>\n",
       "      <th>State</th>\n",
       "      <th>Zip_Code</th>\n",
       "      <th>LEA_Type</th>\n",
       "      <th>Site</th>\n",
       "      <th>Policy_Manual_Exists</th>\n",
       "      <th>Mil_Equip_Policy_Exists</th>\n",
       "      <th>Military Equipment Inventory Exists</th>\n",
       "      <th>QA_Policy_Manual</th>\n",
       "      <th>QA_Mil_Equip_Policy</th>\n",
       "      <th>QA Mil_Equip_Inventory (if separate)</th>\n",
       "      <th>Notes</th>\n",
       "    </tr>\n",
       "  </thead>\n",
       "  <tbody>\n",
       "    <tr>\n",
       "      <th>0</th>\n",
       "      <td>SB978-703</td>\n",
       "      <td>Baldwin Park Police Department</td>\n",
       "      <td>NaN</td>\n",
       "      <td>no</td>\n",
       "      <td>yes</td>\n",
       "      <td>Baldwin Park</td>\n",
       "      <td>34.08536</td>\n",
       "      <td>-117.9603</td>\n",
       "      <td>Los Angeles County</td>\n",
       "      <td>California</td>\n",
       "      <td>91706.0</td>\n",
       "      <td>Police</td>\n",
       "      <td>https://www.baldwinparkpolice.com/Search?searc...</td>\n",
       "      <td>True</td>\n",
       "      <td>TRUE/Draft</td>\n",
       "      <td>TRUE</td>\n",
       "      <td>https://www.baldwinparkpolice.com/DocumentCent...</td>\n",
       "      <td>https://www.baldwinpark.com/public-notices/291...</td>\n",
       "      <td>https://www.baldwinpark.com/public-notices/291...</td>\n",
       "      <td>The current manual, from 2/28/2022 is listed o...</td>\n",
       "    </tr>\n",
       "  </tbody>\n",
       "</table>\n",
       "</div>"
      ],
      "text/plain": [
       "         Ref                        LEA_Name Reference Contract  \\\n",
       "0  SB978-703  Baldwin Park Police Department       NaN       no   \n",
       "\n",
       "  POST Participating          City  Latitude  Longitude              County  \\\n",
       "0                yes  Baldwin Park  34.08536  -117.9603  Los Angeles County   \n",
       "\n",
       "        State  Zip_Code LEA_Type  \\\n",
       "0  California   91706.0   Police   \n",
       "\n",
       "                                                Site  Policy_Manual_Exists  \\\n",
       "0  https://www.baldwinparkpolice.com/Search?searc...                  True   \n",
       "\n",
       "  Mil_Equip_Policy_Exists Military Equipment Inventory Exists  \\\n",
       "0              TRUE/Draft                                TRUE   \n",
       "\n",
       "                                    QA_Policy_Manual  \\\n",
       "0  https://www.baldwinparkpolice.com/DocumentCent...   \n",
       "\n",
       "                                 QA_Mil_Equip_Policy  \\\n",
       "0  https://www.baldwinpark.com/public-notices/291...   \n",
       "\n",
       "                QA Mil_Equip_Inventory (if separate)  \\\n",
       "0  https://www.baldwinpark.com/public-notices/291...   \n",
       "\n",
       "                                               Notes  \n",
       "0  The current manual, from 2/28/2022 is listed o...  "
      ]
     },
     "metadata": {},
     "output_type": "display_data"
    },
    {
     "name": "stdin",
     "output_type": "stream",
     "text": [
      "Enter a zip code, city, or police department: q\n"
     ]
    }
   ],
   "source": [
    "import pandas as pd\n",
    "df = pd.read_csv(\"LEA-20230424.csv\")\n",
    "\n",
    "# prompt user to enter a zip code, city, or police department name\n",
    "search_term = \"\"\n",
    "search_term = input(\"Enter a zip code, city, or police department:\")\n",
    "while search_term != 'q':    \n",
    "    # for exact LEA name searches\n",
    "    if ('Department' or 'Attorney' or 'Police' or 'Office' or 'Sheriff') in search_term:\n",
    "        rows = df.loc[df['LEA_Name'] == search_term]\n",
    "    # for zip code searches \n",
    "    elif search_term.isdigit():\n",
    "        rows = df.loc[df['Zip_Code'] == int(search_term)]\n",
    "    # for city searches\n",
    "    else: \n",
    "        rows = df.loc[df['City'] == search_term]\n",
    "    if (len(rows) == 0):\n",
    "        print(\"Couldn't find any matches. Please double-check your spelling and capitalization\")\n",
    "    else: \n",
    "        display(rows)\n",
    "    search_term = input(\"Enter a zip code, city, or police department:\")\n",
    "  \n"
   ]
  },
  {
   "cell_type": "code",
   "execution_count": null,
   "id": "83fc9cbb-049e-4675-9dfd-5eb5fa323c8b",
   "metadata": {},
   "outputs": [],
   "source": []
  }
 ],
 "metadata": {
  "kernelspec": {
   "display_name": "Python 3 (ipykernel)",
   "language": "python",
   "name": "python3"
  },
  "language_info": {
   "codemirror_mode": {
    "name": "ipython",
    "version": 3
   },
   "file_extension": ".py",
   "mimetype": "text/x-python",
   "name": "python",
   "nbconvert_exporter": "python",
   "pygments_lexer": "ipython3",
   "version": "3.10.9"
  }
 },
 "nbformat": 4,
 "nbformat_minor": 5
}
