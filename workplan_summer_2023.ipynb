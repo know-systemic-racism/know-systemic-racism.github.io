{
 "cells": [
  {
   "cell_type": "markdown",
   "id": "faffa5ab",
   "metadata": {},
   "source": [
    "# Summer 2023 KSR DATA LAB \n",
    "\n",
    "Our goal for the summer is to pull together the threads and loose ends of previous work. Those threads include:\n",
    "1. A presentation and collaboration platform for our work that can be a model for other similar projects\n",
    "2. Wikidata as part of the KSR data ecosystem (contributing to and pulling from)\n",
    "3. Making recommendations to lawmakers for making policies and inventories computational (machine readable)\n",
    "4. Making California Law Enforcement policies accessible and useful to citizens\n",
    "5. Making Military Equipment Inventories more visible and understandable to citizens\n",
    "6. Connecting siloed data to show relationships between past injustices and present harm as well as showing the positive change resulting from activism and civic engagement\n",
    "7. \"Humanizing the harm rather than [just] presenting cold, dead statistics\""
   ]
  },
  {
   "cell_type": "markdown",
   "id": "34b93b0f",
   "metadata": {},
   "source": [
    "## Weeks 1-2 (Anabelle)"
   ]
  },
  {
   "cell_type": "markdown",
   "id": "7163807e",
   "metadata": {},
   "source": [
    "1. **Quarto.** Quarto is now our online publishing platform. It provides a way for people on the team to update content without writing code (just markdown). It is a flexible platform that can take content from Jupyter notebooks, Observable, R, Plotly, etc. and output to a website hosted by github, slide presentations, and print-ready articles. \n",
    "2. **Establishing data visualization tools and pipelines.** KSR data comes from heterogenous sources. That means that we need to be able to access and integrate data stored in different systems. We need to visualize data created by activists and stored in Google Sheets. We need to access community-constructed data in Wikidata and data we have created that is stored in github, the Stanford Digital Repository, and Redivis. "
   ]
  },
  {
   "cell_type": "markdown",
   "id": "8e247048",
   "metadata": {},
   "source": [
    "## Weeks 3-4 (Anabelle and Chloe)"
   ]
  },
  {
   "cell_type": "markdown",
   "id": "87951d3f",
   "metadata": {},
   "source": [
    "1. **Source data.** Evaluate source datasets for fatalencounters with the police in the US. How are they different? Which should we be using and why?\n",
    "2. **Interactivity and Lookup**. Experiment through building solutions for data interactivity and lookup, e.g. searchbar for exploring the law enforcement agencies.\n",
    "3. **Wikidata.** Create a Wikiproject page for the Systemic Racism Knowledge Graph project. Add/Update California Law Enforcement Agencies, and improve process and tooling for creation of records."
   ]
  },
  {
   "cell_type": "markdown",
   "id": "d5b9f922",
   "metadata": {},
   "source": [
    "## Week 5: Working together at Stanford"
   ]
  },
  {
   "cell_type": "code",
   "execution_count": 70,
   "id": "bbea6772",
   "metadata": {},
   "outputs": [
    {
     "data": {
      "text/html": [
       "<div>\n",
       "<style scoped>\n",
       "    .dataframe tbody tr th:only-of-type {\n",
       "        vertical-align: middle;\n",
       "    }\n",
       "\n",
       "    .dataframe tbody tr th {\n",
       "        vertical-align: top;\n",
       "    }\n",
       "\n",
       "    .dataframe thead th {\n",
       "        text-align: right;\n",
       "    }\n",
       "</style>\n",
       "<table border=\"1\" class=\"dataframe\">\n",
       "  <thead>\n",
       "    <tr style=\"text-align: right;\">\n",
       "      <th></th>\n",
       "      <th>Time</th>\n",
       "      <th>Monday</th>\n",
       "      <th>Tuesday</th>\n",
       "      <th>Wednesday</th>\n",
       "      <th>Thursday</th>\n",
       "      <th>Friday</th>\n",
       "    </tr>\n",
       "  </thead>\n",
       "  <tbody>\n",
       "    <tr>\n",
       "      <th>0</th>\n",
       "      <td>PROGRAM</td>\n",
       "      <td>Policy Manuals Day</td>\n",
       "      <td>Military Equipment Policy Day</td>\n",
       "      <td>Simple Sabotage Day</td>\n",
       "      <td>App Building Day</td>\n",
       "      <td>Wrap Up</td>\n",
       "    </tr>\n",
       "    <tr>\n",
       "      <th>1</th>\n",
       "      <td>9:00-10:00</td>\n",
       "      <td>Meeting - Chloe, Anabelle, Nicole</td>\n",
       "      <td>Dig in to Military Equipment policies</td>\n",
       "      <td>Index issues around access to manuals, data.</td>\n",
       "      <td>Humanize the harm of militarization</td>\n",
       "      <td>Our plan for the next few weeks</td>\n",
       "    </tr>\n",
       "    <tr>\n",
       "      <th>2</th>\n",
       "      <td>10:00 - 11:00</td>\n",
       "      <td>Review California LEA Policy Manuals</td>\n",
       "      <td>Gather sources of evidence of Military equipme...</td>\n",
       "      <td>Define standards for publishing military equip...</td>\n",
       "      <td>Do these exists in my city, town, neighborhood?</td>\n",
       "      <td>...</td>\n",
       "    </tr>\n",
       "    <tr>\n",
       "      <th>3</th>\n",
       "      <td>11:00 - 12:00</td>\n",
       "      <td>CRJ-KSR Meeting</td>\n",
       "      <td>Military Equipment</td>\n",
       "      <td>...</td>\n",
       "      <td>Community Hour</td>\n",
       "      <td>Workshop: Rochelle Lundy</td>\n",
       "    </tr>\n",
       "    <tr>\n",
       "      <th>4</th>\n",
       "      <td>12:00 - 1:00</td>\n",
       "      <td>Lunch</td>\n",
       "      <td>Lunch with Regina Roberts</td>\n",
       "      <td>Field Trip</td>\n",
       "      <td>Lunch</td>\n",
       "      <td>CESTA interns lunch</td>\n",
       "    </tr>\n",
       "    <tr>\n",
       "      <th>5</th>\n",
       "      <td>1:00 - 2:00</td>\n",
       "      <td>Use LLM</td>\n",
       "      <td>Military Equiment into Wikidata/Wikimedia</td>\n",
       "      <td>to</td>\n",
       "      <td>APP</td>\n",
       "      <td>Breathe</td>\n",
       "    </tr>\n",
       "    <tr>\n",
       "      <th>6</th>\n",
       "      <td>2:00 - 3:00</td>\n",
       "      <td>to ask questions of</td>\n",
       "      <td>More MEI</td>\n",
       "      <td>Computer History</td>\n",
       "      <td>APP</td>\n",
       "      <td>Nicole and Chloe depart for SFO</td>\n",
       "    </tr>\n",
       "    <tr>\n",
       "      <th>7</th>\n",
       "      <td>3:00 - 4:00</td>\n",
       "      <td>Lexipol Policy Manuals</td>\n",
       "      <td>AFSC Meeting</td>\n",
       "      <td>Museum</td>\n",
       "      <td>APP</td>\n",
       "      <td>FLYING</td>\n",
       "    </tr>\n",
       "  </tbody>\n",
       "</table>\n",
       "</div>"
      ],
      "text/plain": [
       "            Time                                Monday  \\\n",
       "0        PROGRAM                    Policy Manuals Day   \n",
       "1     9:00-10:00     Meeting - Chloe, Anabelle, Nicole   \n",
       "2  10:00 - 11:00  Review California LEA Policy Manuals   \n",
       "3  11:00 - 12:00                       CRJ-KSR Meeting   \n",
       "4   12:00 - 1:00                                 Lunch   \n",
       "5    1:00 - 2:00                               Use LLM   \n",
       "6    2:00 - 3:00                   to ask questions of   \n",
       "7    3:00 - 4:00                Lexipol Policy Manuals   \n",
       "\n",
       "                                             Tuesday  \\\n",
       "0                      Military Equipment Policy Day   \n",
       "1              Dig in to Military Equipment policies   \n",
       "2  Gather sources of evidence of Military equipme...   \n",
       "3                                 Military Equipment   \n",
       "4                          Lunch with Regina Roberts   \n",
       "5          Military Equiment into Wikidata/Wikimedia   \n",
       "6                                           More MEI   \n",
       "7                                       AFSC Meeting   \n",
       "\n",
       "                                           Wednesday  \\\n",
       "0                                Simple Sabotage Day   \n",
       "1       Index issues around access to manuals, data.   \n",
       "2  Define standards for publishing military equip...   \n",
       "3                                                ...   \n",
       "4                                         Field Trip   \n",
       "5                                                 to   \n",
       "6                                   Computer History   \n",
       "7                                             Museum   \n",
       "\n",
       "                                           Thursday  \\\n",
       "0                                  App Building Day   \n",
       "1               Humanize the harm of militarization   \n",
       "2  Do these exists in my city, town, neighborhood?    \n",
       "3                                    Community Hour   \n",
       "4                                             Lunch   \n",
       "5                                               APP   \n",
       "6                                               APP   \n",
       "7                                               APP   \n",
       "\n",
       "                            Friday  \n",
       "0                          Wrap Up  \n",
       "1  Our plan for the next few weeks  \n",
       "2                              ...  \n",
       "3         Workshop: Rochelle Lundy  \n",
       "4             CESTA interns lunch   \n",
       "5                          Breathe  \n",
       "6  Nicole and Chloe depart for SFO  \n",
       "7                           FLYING  "
      ]
     },
     "execution_count": 70,
     "metadata": {},
     "output_type": "execute_result"
    }
   ],
   "source": [
    "#| label: Week 5\n",
    "#| fig-cap: >\n",
    "#|  Scheduled activities for the week of July 24-28, 2023\n",
    "import pandas as pd\n",
    "\n",
    "def make_clickable(val):\n",
    "    # target _blank to open new window\n",
    "    return '<a target=\"_blank\" href=\"{}\">{}</a>'.format(val, val)\n",
    "\n",
    "sheet_url = 'https://docs.google.com/spreadsheets/d/1G4WIcWJK9c1OKdaeDTRwDgDaJkAqAd-IcUrFwmLr04k/edit#gid=58406731'\n",
    "url_1 = sheet_url.replace('/edit#gid=', '/export?format=csv&gid=')\n",
    "\n",
    "pd.read_csv(url_1)\n",
    "#df.loc[:, ~df.columns.isin(['Unnamed: 6', 'Unnamed: 7', 'Unnamed: 8'])]"
   ]
  },
  {
   "cell_type": "markdown",
   "id": "accc7e06",
   "metadata": {},
   "source": [
    "## Weeks 6, 7, & 8"
   ]
  },
  {
   "cell_type": "markdown",
   "id": "4516240b",
   "metadata": {},
   "source": [
    "- By the end of this period of time we should have built our Wikidata ecosystem: Enriched entries for Black people killed through interaction with police in California, Military equipment, LEAS, California Legislation, Policies, and, if possible, protests as well. \n",
    "- We will build on the Week 5 collaboration to build an interface to the military equipment.\n",
    "- We will make progress on writing the Simple Sabotage paper"
   ]
  },
  {
   "cell_type": "markdown",
   "id": "1808ea9a",
   "metadata": {},
   "source": [
    "# Weeks 9 & 10"
   ]
  },
  {
   "cell_type": "markdown",
   "id": "91c69dbe",
   "metadata": {},
   "source": [
    "- Anthology entry\n",
    "- Simple Sabotage\n",
    "- Documentation of all work on the website\n",
    "\n",
    "**Note:** Chloe's time with us will be officially over. Her contributions to the project will be reflected in the CESTA anthology and in the \"Simple Sabotage\" paper as co-author."
   ]
  },
  {
   "cell_type": "code",
   "execution_count": null,
   "id": "5a3771e7",
   "metadata": {},
   "outputs": [],
   "source": []
  }
 ],
 "metadata": {
  "celltoolbar": "Raw Cell Format",
  "kernelspec": {
   "display_name": "Python 3 (ipykernel)",
   "language": "python",
   "name": "python3"
  },
  "language_info": {
   "codemirror_mode": {
    "name": "ipython",
    "version": 3
   },
   "file_extension": ".py",
   "mimetype": "text/x-python",
   "name": "python",
   "nbconvert_exporter": "python",
   "pygments_lexer": "ipython3",
   "version": "3.10.12"
  }
 },
 "nbformat": 4,
 "nbformat_minor": 5
}
