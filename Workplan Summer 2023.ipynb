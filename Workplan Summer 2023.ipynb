{
 "cells": [
  {
   "cell_type": "code",
   "execution_count": 46,
   "id": "95a486e6",
   "metadata": {},
   "outputs": [
    {
     "data": {
      "text/html": [
       "<div>\n",
       "<style scoped>\n",
       "    .dataframe tbody tr th:only-of-type {\n",
       "        vertical-align: middle;\n",
       "    }\n",
       "\n",
       "    .dataframe tbody tr th {\n",
       "        vertical-align: top;\n",
       "    }\n",
       "\n",
       "    .dataframe thead th {\n",
       "        text-align: right;\n",
       "    }\n",
       "</style>\n",
       "<table border=\"1\" class=\"dataframe\">\n",
       "  <thead>\n",
       "    <tr style=\"text-align: right;\">\n",
       "      <th></th>\n",
       "      <th>Dataset</th>\n",
       "      <th>Victims anonymized?</th>\n",
       "      <th>Date range</th>\n",
       "      <th>Size</th>\n",
       "      <th>Data type</th>\n",
       "      <th>Location of injury data?</th>\n",
       "      <th>Access Links</th>\n",
       "    </tr>\n",
       "  </thead>\n",
       "  <tbody>\n",
       "    <tr>\n",
       "      <th>0</th>\n",
       "      <td>NOIHD</td>\n",
       "      <td>True</td>\n",
       "      <td>2000-2017</td>\n",
       "      <td>Huge</td>\n",
       "      <td>Stata file</td>\n",
       "      <td>True (but general location, probably at city-l...</td>\n",
       "      <td>https://drive.google.com/drive/folders/1JeXad_...</td>\n",
       "    </tr>\n",
       "    <tr>\n",
       "      <th>1</th>\n",
       "      <td>Fatal Encounters</td>\n",
       "      <td>False</td>\n",
       "      <td>2000-2021</td>\n",
       "      <td>Big</td>\n",
       "      <td>CSV</td>\n",
       "      <td>True (as exact as possible)</td>\n",
       "      <td>https://docs.google.com/spreadsheets/d/1dKmaV_...</td>\n",
       "    </tr>\n",
       "    <tr>\n",
       "      <th>2</th>\n",
       "      <td>Washington Post</td>\n",
       "      <td>False</td>\n",
       "      <td>2015-2023</td>\n",
       "      <td>Smallest</td>\n",
       "      <td>CSV or JSON</td>\n",
       "      <td>NaN</td>\n",
       "      <td>https://www.washingtonpost.com/graphics/invest...</td>\n",
       "    </tr>\n",
       "  </tbody>\n",
       "</table>\n",
       "</div>"
      ],
      "text/plain": [
       "            Dataset  Victims anonymized? Date range      Size    Data type  \\\n",
       "0             NOIHD                 True  2000-2017      Huge   Stata file   \n",
       "1  Fatal Encounters                False  2000-2021       Big          CSV   \n",
       "2   Washington Post                False  2015-2023  Smallest  CSV or JSON   \n",
       "\n",
       "                            Location of injury data?  \\\n",
       "0  True (but general location, probably at city-l...   \n",
       "1                        True (as exact as possible)   \n",
       "2                                                NaN   \n",
       "\n",
       "                                        Access Links  \n",
       "0  https://drive.google.com/drive/folders/1JeXad_...  \n",
       "1  https://docs.google.com/spreadsheets/d/1dKmaV_...  \n",
       "2  https://www.washingtonpost.com/graphics/invest...  "
      ]
     },
     "execution_count": 46,
     "metadata": {},
     "output_type": "execute_result"
    }
   ],
   "source": [
    "import pandas as pd\n",
    "\n",
    "def make_clickable(val):\n",
    "    # target _blank to open new window\n",
    "    return '<a target=\"_blank\" href=\"{}\">{}</a>'.format(val, val)\n",
    "\n",
    "sheet_url = 'https://docs.google.com/spreadsheets/d/1IfK0gInyBM9KOhrxglCBqPp13fyX6ZjXVCQJDj-WGck/edit#gid=0'\n",
    "url_1 = sheet_url.replace('/edit#gid=', '/export?format=csv&gid=')\n",
    "\n",
    "df = pd.read_csv(url_1)\n",
    "df.loc[:, ~df.columns.isin(['Unnamed: 6', 'Unnamed: 7', 'Unnamed: 8'])]"
   ]
  },
  {
   "cell_type": "code",
   "execution_count": null,
   "id": "59ac2668",
   "metadata": {},
   "outputs": [],
   "source": []
  }
 ],
 "metadata": {
  "kernelspec": {
   "display_name": "Python 3 (ipykernel)",
   "language": "python",
   "name": "python3"
  },
  "language_info": {
   "codemirror_mode": {
    "name": "ipython",
    "version": 3
   },
   "file_extension": ".py",
   "mimetype": "text/x-python",
   "name": "python",
   "nbconvert_exporter": "python",
   "pygments_lexer": "ipython3",
   "version": "3.10.12"
  }
 },
 "nbformat": 4,
 "nbformat_minor": 5
}
